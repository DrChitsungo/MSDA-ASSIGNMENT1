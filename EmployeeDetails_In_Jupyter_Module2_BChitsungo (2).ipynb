{
 "cells": [
  {
   "cell_type": "code",
   "execution_count": 1,
   "id": "6990c0fc-ffd9-4b0a-860e-6bc404dd2148",
   "metadata": {},
   "outputs": [
    {
     "name": "stdout",
     "output_type": "stream",
     "text": [
      "        EmployeeName                                        JobTitle  \\\n",
      "0     NATHANIEL FORD  GENERAL MANAGER-METROPOLITAN TRANSIT AUTHORITY   \n",
      "1       GARY JIMENEZ                 CAPTAIN III (POLICE DEPARTMENT)   \n",
      "2     ALBERT PARDINI                 CAPTAIN III (POLICE DEPARTMENT)   \n",
      "3  CHRISTOPHER CHONG            WIRE ROPE CABLE MAINTENANCE MECHANIC   \n",
      "4    PATRICK GARDNER    DEPUTY CHIEF OF DEPARTMENT,(FIRE DEPARTMENT)   \n",
      "\n",
      "     BasePay OvertimePay   OtherPay      Benefits   TotalPay  \\\n",
      "0  167411.18         0.0  400184.25  Not Provided  567595.43   \n",
      "1  155966.02   245131.88  137811.38  Not Provided  538909.28   \n",
      "2  212739.13   106088.18    16452.6  Not Provided  335279.91   \n",
      "3    77916.0    56120.71   198306.9  Not Provided  332343.61   \n",
      "4   134401.6      9737.0  182234.59  Not Provided  326373.19   \n",
      "\n",
      "   TotalPayBenefits  Year  \n",
      "0         567595.43  2011  \n",
      "1         538909.28  2011  \n",
      "2         335279.91  2011  \n",
      "3         332343.61  2011  \n",
      "4         326373.19  2011  \n"
     ]
    },
    {
     "name": "stderr",
     "output_type": "stream",
     "text": [
      "C:\\Users\\Hp\\AppData\\Local\\Temp\\ipykernel_83876\\3533726482.py:9: DtypeWarning: Columns (2,3,4,5) have mixed types. Specify dtype option on import or set low_memory=False.\n",
      "  salary_data = pd.read_csv(file_path)\n"
     ]
    }
   ],
   "source": [
    "# Employee Salary Management System\n",
    "# Jupyter Notebook for processing employee salary data\n",
    "\n",
    "# Step 1: Import the pandas library\n",
    "import pandas as pd\n",
    "# Step 2: Specify the path to the CSV file on your desktop\n",
    "file_path = \"C:/Users/Hp/OneDrive/Desktop/Salary2.csv\"\n",
    "# Step 3: Load the salary data from the CSV file\n",
    "salary_data = pd.read_csv(file_path)\n",
    "# Step 4: Display the first few rows of the DataFrame\n",
    "print(salary_data.head())"
   ]
  },
  {
   "cell_type": "code",
   "execution_count": 2,
   "id": "a99fdf77-2b45-44ab-886c-e3ea0defa8f7",
   "metadata": {},
   "outputs": [
    {
     "name": "stdout",
     "output_type": "stream",
     "text": [
      "Dictionary creation is complete\n"
     ]
    }
   ],
   "source": [
    "# Convert the DataFrame into a dictionary with employee names as keys\n",
    "\n",
    "# Create a new dictionary called `employee_dict`\n",
    "#Loop through each row of the DataFrame `salary_data` using `iterrows()`,\n",
    "# To return both the index (unused here, hence the underscore `_`) and the row as a Series\n",
    "employee_dict = {\n",
    "    row[\"EmployeeName\"]: {  # Use the employee's name as the dictionary key\n",
    "        key: row[key]       # For each column (except 'EmployeeName'), store the value in a nested dictionary\n",
    "        for key in salary_data.columns if key != \"EmployeeName\" # Ensure there's no duplication in the nested dictionary \n",
    "    }\n",
    "    for _, row in salary_data.iterrows()  # Iterate over all rows in the DataFrame\n",
    "}\n",
    "print(\"Dictionary creation is complete\")\n"
   ]
  },
  {
   "cell_type": "code",
   "execution_count": 4,
   "id": "8dae3718-1f5f-4630-9f79-d6bf6011a390",
   "metadata": {},
   "outputs": [
    {
     "name": "stdout",
     "output_type": "stream",
     "text": [
      "Function creation is complete\n"
     ]
    }
   ],
   "source": [
    "# Function to retrieve and display details of a specific employee\n",
    "def get_employee_details(employee_name):\n",
    "    try:\n",
    "        # Check if the employee exists in the dictionary\n",
    "        if employee_name in employee_dict:\n",
    "            print(f\"Employee Details for {employee_name}:\")\n",
    "            details = employee_dict[employee_name]  # Get the employee's details\n",
    "\n",
    "            # Print each key-value pair in the employee's details\n",
    "            for key, value in details.items():\n",
    "                print(f\"{key}: {value}\")\n",
    "            \n",
    "            return details  # Return the details dictionary\n",
    "        \n",
    "        else:\n",
    "            # Employee not found\n",
    "            print(f\"No employee found with the name: {employee_name}\")\n",
    "            return None\n",
    "\n",
    "    except Exception as e:\n",
    "        # Handle any unexpected errors\n",
    "        print(f\"An error occurred: {e}\")\n",
    "        return None\n",
    "\n",
    "print(\"Function creation is complete\")\n",
    "\n",
    "\n"
   ]
  },
  {
   "cell_type": "code",
   "execution_count": 10,
   "id": "be6d39a5-0eb8-4cc0-a75d-23fe7d47f09c",
   "metadata": {},
   "outputs": [
    {
     "name": "stdout",
     "output_type": "stream",
     "text": [
      "Function creation is complete\n"
     ]
    }
   ],
   "source": [
    "# Import necessary libraries\n",
    "import pandas as pd        # For handling tabular data\n",
    "import zipfile             # For creating zip files\n",
    "import os                  # For interacting with the file system\n",
    "\n",
    "# Define a function to write employee details to a CSV file and zip it\n",
    "def write_employee_to_csv(employee_name, details):\n",
    "    # Check if details are provided\n",
    "    if details is None:\n",
    "        print(\"No details to write.\")\n",
    "        return\n",
    "\n",
    "    # Set your desired folder path here (CHANGE THIS TO YOUR PATH)\n",
    "    folder_path = \"C:/Users/Hp/OneDrive/Desktop/Employee Profiles\"\n",
    "    \n",
    "\n",
    "    # Ensure the directory exists\n",
    "    os.makedirs(folder_path, exist_ok=True)\n",
    "\n",
    "    # Generate filename-safe version of the employee name\n",
    "    base_filename = employee_name.replace(\" \", \"_\")\n",
    "\n",
    "    # Full paths\n",
    "    csv_filename = base_filename + \".csv\"\n",
    "    zip_filename = \"Employee Profile.zip\"\n",
    "    full_csv_path = os.path.join(folder_path, csv_filename)\n",
    "    full_zip_path = os.path.join(folder_path, zip_filename)\n",
    "\n",
    "    try:\n",
    "        # Create a DataFrame from the employee details\n",
    "        df = pd.DataFrame([details])\n",
    "        df.insert(0, \"EmployeeName\", employee_name)\n",
    "\n",
    "        # Display the DataFrame in the notebook\n",
    "        print(\"CSV Content:\")\n",
    "        print(df)\n",
    "\n",
    "        # Save the DataFrame as a CSV\n",
    "        df.to_csv(full_csv_path, index=False)\n",
    "        print(f\"Details for '{employee_name}' written to '{full_csv_path}' successfully.\")\n",
    "\n",
    "        # Create a zip file with the same base name\n",
    "        with zipfile.ZipFile(full_zip_path, 'w') as zipf:\n",
    "            zipf.write(full_csv_path, arcname=csv_filename)\n",
    "\n",
    "        print(f\"CSV file zipped into '{full_zip_path}' successfully.\")\n",
    "\n",
    "    except Exception as e:\n",
    "        print(f\"Failed to write file: {e}\")\n",
    "\n",
    "print(\"Function creation is complete\")\n"
   ]
  },
  {
   "cell_type": "code",
   "execution_count": 11,
   "id": "695a1d2f-2db0-44f1-8d9f-8e92b31765b5",
   "metadata": {},
   "outputs": [
    {
     "name": "stdin",
     "output_type": "stream",
     "text": [
      "Please enter employee name:  VICTOR WYRSCH\n"
     ]
    },
    {
     "name": "stdout",
     "output_type": "stream",
     "text": [
      "Employee Details for VICTOR WYRSCH:\n",
      "JobTitle: BATTALION CHIEF, (FIRE DEPARTMENT)\n",
      "BasePay: 168692.63\n",
      "OvertimePay: 77896.14\n",
      "OtherPay: 24083.86\n",
      "Benefits: Not Provided\n",
      "TotalPay: 270672.63\n",
      "TotalPayBenefits: 270672.63\n",
      "Year: 2011\n",
      "CSV Content:\n",
      "    EmployeeName                            JobTitle    BasePay  OvertimePay  \\\n",
      "0  VICTOR WYRSCH  BATTALION CHIEF, (FIRE DEPARTMENT)  168692.63     77896.14   \n",
      "\n",
      "   OtherPay      Benefits   TotalPay  TotalPayBenefits  Year  \n",
      "0  24083.86  Not Provided  270672.63         270672.63  2011  \n",
      "Details for 'VICTOR WYRSCH' written to 'C:/Users/Hp/OneDrive/Desktop/Employee Profiles\\VICTOR_WYRSCH.csv' successfully.\n",
      "CSV file zipped into 'C:/Users/Hp/OneDrive/Desktop/Employee Profiles\\Employee Profile.zip' successfully.\n"
     ]
    }
   ],
   "source": [
    "# Ask for employee name\n",
    "name = input(\"Please enter employee name: \")\n",
    "\n",
    "# Get employee details\n",
    "employee_details = get_employee_details(name)\n",
    "\n",
    "# Write to CSV and trigger download\n",
    "write_employee_to_csv(name, employee_details)\n"
   ]
  }
 ],
 "metadata": {
  "kernelspec": {
   "display_name": "Python [conda env:base] *",
   "language": "python",
   "name": "conda-base-py"
  },
  "language_info": {
   "codemirror_mode": {
    "name": "ipython",
    "version": 3
   },
   "file_extension": ".py",
   "mimetype": "text/x-python",
   "name": "python",
   "nbconvert_exporter": "python",
   "pygments_lexer": "ipython3",
   "version": "3.13.5"
  }
 },
 "nbformat": 4,
 "nbformat_minor": 5
}
